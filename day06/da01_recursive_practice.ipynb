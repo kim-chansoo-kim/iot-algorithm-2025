{
 "cells": [
  {
   "cell_type": "markdown",
   "metadata": {},
   "source": [
    "### 재귀호출 연습"
   ]
  },
  {
   "cell_type": "code",
   "execution_count": null,
   "metadata": {},
   "outputs": [],
   "source": [
    "import time # 타임 관련 표준 라이브러리"
   ]
  },
  {
   "cell_type": "markdown",
   "metadata": {},
   "source": [
    "#### 우주선 발사 카운트 다운"
   ]
  },
  {
   "cell_type": "code",
   "execution_count": 3,
   "metadata": {},
   "outputs": [
    {
     "name": "stdout",
     "output_type": "stream",
     "text": [
      "5\n",
      "4\n",
      "3\n",
      "2\n",
      "1\n",
      "발사!\n"
     ]
    }
   ],
   "source": [
    "def countDown(n):\n",
    "    if n == 0: # n이 0이 되면\n",
    "        print('발사!') # '발사!'를 프린트 한다\n",
    "    else:\n",
    "        print(n)\n",
    "        time.sleep(1) # 1초 간격으로 출력\n",
    "        countDown(n - 1) # 작은 숫자로 재귀호출\n",
    "countDown(5)"
   ]
  },
  {
   "cell_type": "markdown",
   "metadata": {},
   "source": [
    "#### 별 모양 출력"
   ]
  },
  {
   "cell_type": "code",
   "execution_count": 7,
   "metadata": {},
   "outputs": [
    {
     "name": "stdout",
     "output_type": "stream",
     "text": [
      "★★★★★\n",
      "★★★★\n",
      "★★★\n",
      "★★\n",
      "★\n"
     ]
    }
   ],
   "source": [
    "def printStar(n):\n",
    "    if n > 0: # n이 0이 되면 멈춤\n",
    "        printStar(n - 1)\n",
    "        print('★' * n) \n",
    "printStar(5)"
   ]
  },
  {
   "cell_type": "markdown",
   "metadata": {},
   "source": [
    "#### 구구단 출력하기"
   ]
  },
  {
   "cell_type": "code",
   "execution_count": 18,
   "metadata": {},
   "outputs": [
    {
     "name": "stdout",
     "output_type": "stream",
     "text": [
      "## 2단 ##\n",
      "2 X 1 =  2\t2 X 2 =  4\t2 X 3 =  6\t2 X 4 =  8\t2 X 5 = 10\t2 X 6 = 12\t2 X 7 = 14\t2 X 8 = 16\t2 X 9 = 18\t\n",
      "## 3단 ##\n",
      "3 X 1 =  3\t3 X 2 =  6\t3 X 3 =  9\t3 X 4 = 12\t3 X 5 = 15\t3 X 6 = 18\t3 X 7 = 21\t3 X 8 = 24\t3 X 9 = 27\t\n",
      "## 4단 ##\n",
      "4 X 1 =  4\t4 X 2 =  8\t4 X 3 = 12\t4 X 4 = 16\t4 X 5 = 20\t4 X 6 = 24\t4 X 7 = 28\t4 X 8 = 32\t4 X 9 = 36\t\n",
      "## 5단 ##\n",
      "5 X 1 =  5\t5 X 2 = 10\t5 X 3 = 15\t5 X 4 = 20\t5 X 5 = 25\t5 X 6 = 30\t5 X 7 = 35\t5 X 8 = 40\t5 X 9 = 45\t\n",
      "## 6단 ##\n",
      "6 X 1 =  6\t6 X 2 = 12\t6 X 3 = 18\t6 X 4 = 24\t6 X 5 = 30\t6 X 6 = 36\t6 X 7 = 42\t6 X 8 = 48\t6 X 9 = 54\t\n",
      "## 7단 ##\n",
      "7 X 1 =  7\t7 X 2 = 14\t7 X 3 = 21\t7 X 4 = 28\t7 X 5 = 35\t7 X 6 = 42\t7 X 7 = 49\t7 X 8 = 56\t7 X 9 = 63\t\n",
      "## 8단 ##\n",
      "8 X 1 =  8\t8 X 2 = 16\t8 X 3 = 24\t8 X 4 = 32\t8 X 5 = 40\t8 X 6 = 48\t8 X 7 = 56\t8 X 8 = 64\t8 X 9 = 72\t\n",
      "## 9단 ##\n",
      "9 X 1 =  9\t9 X 2 = 18\t9 X 3 = 27\t9 X 4 = 36\t9 X 5 = 45\t9 X 6 = 54\t9 X 7 = 63\t9 X 8 = 72\t9 X 9 = 81\t\n"
     ]
    }
   ],
   "source": [
    "def gugu(dan, num):\n",
    "    print(f'{dan} X {num} = {dan*num:>2d}', end='\\t')\n",
    "    if num < 9:\n",
    "        gugu(dan, num+1)\n",
    "for dan in range(2, 10):\n",
    "    print(f'## {dan}단 ##')\n",
    "    gugu(dan, 1)\n",
    "    print()"
   ]
  },
  {
   "cell_type": "markdown",
   "metadata": {},
   "source": [
    "#### N제곱 계산"
   ]
  },
  {
   "cell_type": "code",
   "execution_count": 19,
   "metadata": {},
   "outputs": [
    {
     "data": {
      "text/plain": [
       "1024"
      ]
     },
     "execution_count": 19,
     "metadata": {},
     "output_type": "execute_result"
    }
   ],
   "source": [
    "2**10"
   ]
  },
  {
   "cell_type": "code",
   "execution_count": 21,
   "metadata": {},
   "outputs": [
    {
     "data": {
      "text/plain": [
       "1024.0"
      ]
     },
     "execution_count": 21,
     "metadata": {},
     "output_type": "execute_result"
    }
   ],
   "source": [
    "from math import pow\n",
    "\n",
    "pow(2, 10)"
   ]
  },
  {
   "cell_type": "markdown",
   "metadata": {},
   "source": [
    "##### 제곱근 생략, 직접 해보세요"
   ]
  },
  {
   "cell_type": "markdown",
   "metadata": {},
   "source": [
    "#### 배열의 합 계산"
   ]
  },
  {
   "cell_type": "code",
   "execution_count": 110,
   "metadata": {},
   "outputs": [
    {
     "name": "stdout",
     "output_type": "stream",
     "text": [
      "배열 [69, 37, 66, 98, 2] 의 합계 --> 272\n"
     ]
    }
   ],
   "source": [
    "import random\n",
    "ary = [random.randint(0,100) for _ in range(random.randint(5, 10))]\n",
    "# ary = [i for i in range(1, 11)]\n",
    "\n",
    "def arySum(arr, n):\n",
    "    if n <= 0 :\n",
    "        return arr[0]\n",
    "    return arySum(arr, n-1) + arr[n]\n",
    "\n",
    "print(f'배열 {ary} 의 합계 --> {arySum(ary, len(ary) - 1)}')"
   ]
  },
  {
   "cell_type": "markdown",
   "metadata": {},
   "source": [
    "#### 피보나치 수"
   ]
  },
  {
   "cell_type": "code",
   "execution_count": 118,
   "metadata": {},
   "outputs": [
    {
     "name": "stdout",
     "output_type": "stream",
     "text": [
      "피보나치 수 -->  0 1 1 2 3 5 8 13 21 34 55 89 144 233 377 610 987 1597 2584 4181 "
     ]
    }
   ],
   "source": [
    "def fibo(n):\n",
    "    if n == 0:\n",
    "        return 0 # 재귀호출을 끝내는 조건\n",
    "    elif n == 1:\n",
    "        return 1 # 재귀호출을 끝내는 조건\n",
    "    else:\n",
    "        return fibo(n - 1) + fibo(n - 2)\n",
    "    \n",
    "print(f'피보나치 수 --> ', end= ' ')\n",
    "for i in range(0, 20):\n",
    "    print(fibo(i), end=' ')"
   ]
  },
  {
   "cell_type": "markdown",
   "metadata": {},
   "source": [
    "#### 회문판단"
   ]
  },
  {
   "cell_type": "code",
   "execution_count": 120,
   "metadata": {},
   "outputs": [
    {
     "name": "stdout",
     "output_type": "stream",
     "text": [
      "reaver--> No\n",
      " kayak--> Ok\n",
      "Borrow or rob--> Ok\n",
      "주유소의 소유주--> Ok\n",
      "야 너 이번 주 주번이 너야--> Ok\n",
      "살금살금--> No\n"
     ]
    }
   ],
   "source": [
    "# 전역변수 선언\n",
    "strAry = ['reaver', ' kayak', 'Borrow or rob', '주유소의 소유주', '야 너 이번 주 주번이 너야', '살금살금']\n",
    "\n",
    "# 클래스와 함수 선언\n",
    "def checkpalindrome(pStr):\n",
    "    if len(pStr) <= 1:\n",
    "        return True\n",
    "    else:\n",
    "        if pStr[0] != pStr[-1]:\n",
    "            return False\n",
    "        else: # 리스트 맨처음 단어와 맨마지막 단어가 같으면, 걔네들은 버린다\n",
    "            return checkpalindrome(pStr[1:len(pStr)-1])\n",
    "        \n",
    "# 메인 모듈\n",
    "for testStr in strAry:\n",
    "    print(testStr, end='--> ')\n",
    "    testStr = testStr.lower().replace(' ', '') # 대문자와 중간공백을 모두 없앰(lower, upper 둘다 사용가능)\n",
    "    if checkpalindrome(testStr): \n",
    "        print('Ok') # 사실이라면 ok\n",
    "    else:\n",
    "        print('No') # 거짓이라면 No"
   ]
  },
  {
   "cell_type": "markdown",
   "metadata": {},
   "source": [
    "#### 프렉탈"
   ]
  },
  {
   "cell_type": "code",
   "execution_count": null,
   "metadata": {},
   "outputs": [],
   "source": [
    "from tkinter import *\n",
    "\n",
    "root = Tk()\n",
    "canvas = Canvas(root, height=1000, width=1000, bg='white')\n",
    "canvas.pack()\n",
    "\n",
    "cx = 1000//2\n",
    "cy = 1000//2\n",
    "r = 400\n",
    "canvas.create_oval(cx-r, cy-r, cx+r, cy+r, width=2, outline='red')\n",
    "\n",
    "root.mainloop()\n",
    "# 종료시 예외메시지가 계속 출력되는 문제. 파이썬으로 이동!"
   ]
  },
  {
   "cell_type": "markdown",
   "metadata": {},
   "source": [
    "#### 재귀호출 쓰는 이유\n",
    "- 반복문만 가지고 구현이 정말 힘들 때 -> 재귀호출 쓰면 한방에 해결\n",
    "- 수학적인 개념으로 접근시 점화식(재귀식)을 그대로 소스코드로 구현가능"
   ]
  }
 ],
 "metadata": {
  "kernelspec": {
   "display_name": "Python 3",
   "language": "python",
   "name": "python3"
  },
  "language_info": {
   "codemirror_mode": {
    "name": "ipython",
    "version": 3
   },
   "file_extension": ".py",
   "mimetype": "text/x-python",
   "name": "python",
   "nbconvert_exporter": "python",
   "pygments_lexer": "ipython3",
   "version": "3.11.9"
  }
 },
 "nbformat": 4,
 "nbformat_minor": 2
}
