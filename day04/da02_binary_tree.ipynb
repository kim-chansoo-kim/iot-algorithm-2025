{
 "cells": [
  {
   "cell_type": "markdown",
   "metadata": {},
   "source": [
    "### binary tree 이진트리\n",
    "<img src=\"https://i.namu.wiki/i/T3H6K3nRvVrmlNiUGidBWIhzxe71xl7kziRETH2LXlJlG7oZ4JiI9pttXEBcifVIOsSWsrR9rdIUGBkMfK_rfB4hy9MO_QBLgdGLSHEiERYUkUu4O1ev7e0vlnLybmYy5_3C6fO4CS76-gSEDw3Pww.webp\"\n",
    "width=\"300\">\n",
    "- 나무를 거꾸로 뒤집은 모양의 자료구조\n",
    "- 이진트리가 구현이 쉽다\n",
    "- 이진트리 왼쪽, 오른쪽노드를 가지고 아래로 레벨을 내려가는 형태\n",
    "- 이중 연결리스트 노드와 모양 동일"
   ]
  },
  {
   "cell_type": "markdown",
   "metadata": {},
   "source": [
    "- 트리노드 클래스"
   ]
  },
  {
   "cell_type": "code",
   "execution_count": 27,
   "metadata": {},
   "outputs": [],
   "source": [
    "class TreeNode:\n",
    "    def __init__(self):\n",
    "        self.left = None\n",
    "        self.data = None\n",
    "        self.right = None"
   ]
  },
  {
   "cell_type": "markdown",
   "metadata": {},
   "source": [
    "- 루트노드(level 0) 생성"
   ]
  },
  {
   "cell_type": "code",
   "execution_count": 28,
   "metadata": {},
   "outputs": [],
   "source": [
    "node1 = TreeNode()\n",
    "node1.data = '화사'"
   ]
  },
  {
   "cell_type": "markdown",
   "metadata": {},
   "source": [
    "- 자식노드(level 1) 생성"
   ]
  },
  {
   "cell_type": "code",
   "execution_count": 29,
   "metadata": {},
   "outputs": [],
   "source": [
    "node2 = TreeNode()\n",
    "node2.data = '솔라'\n",
    "node1.left = node2\n",
    "# node1.left 변수에 node2를 집어넣는다는 뜻 -> 연결한다라고 개념적으로 설명\n",
    "\n",
    "node3 = TreeNode()\n",
    "node3.data = '문별'\n",
    "node1.right = node3"
   ]
  },
  {
   "cell_type": "markdown",
   "metadata": {},
   "source": [
    "- 리프노드(level 2) 생성"
   ]
  },
  {
   "cell_type": "code",
   "execution_count": 30,
   "metadata": {},
   "outputs": [],
   "source": [
    "node4 = TreeNode()\n",
    "node4.data = '휘인'\n",
    "node2.left = node4\n",
    "\n",
    "node5 = TreeNode()\n",
    "node5.data = '쯔위'\n",
    "node2.right = node5\n",
    "\n",
    "node6 = TreeNode()\n",
    "node6.data = '선미'\n",
    "node3.left = node6"
   ]
  },
  {
   "cell_type": "code",
   "execution_count": 31,
   "metadata": {},
   "outputs": [
    {
     "name": "stdout",
     "output_type": "stream",
     "text": [
      "화사 \n",
      "솔라 문별 \n",
      "휘인 쯔위 선미 \n"
     ]
    }
   ],
   "source": [
    "print(node1.data, end=' ')\n",
    "print()\n",
    "print(node1.left.data, node1.right.data, end=' ')\n",
    "print()\n",
    "print(node1.left.left.data, node1.left.right.data, node1.right.left.data, end=' ')\n",
    "print()"
   ]
  },
  {
   "cell_type": "markdown",
   "metadata": {},
   "source": [
    "#### 이진 트리 순회\n",
    "- 노드를 한번씩 방문해서 전체를 다 도는 것 - 순회(Traversal)\n",
    "    - 전위순회(preorder) - node(root) , left, right 진행\n",
    "    - 중위순회(inorder) - left , node(root), right 진행\n",
    "    - 후위순회(postorder) - left ,  right, node(root) 진행"
   ]
  },
  {
   "cell_type": "code",
   "execution_count": 36,
   "metadata": {},
   "outputs": [
    {
     "name": "stdout",
     "output_type": "stream",
     "text": [
      "전위순회 : 화사 -> 솔라 -> 휘인 -> 쯔위 -> 문별 -> 선미 -> 끝\n"
     ]
    }
   ],
   "source": [
    "# 전위순회\n",
    "def preorder(node): # 루트노드를 파라미터로\n",
    "    if node == None: return # 노드가 None이면 리턴하겠다\n",
    "\n",
    "    print(node.data, end=' -> ') # 노드 데이터를 출력\n",
    "    preorder(node.left) # 재귀(함수)호출(Recursive call) 함수가 자기 자신을 호출\n",
    "    preorder(node.right) # 재귀(함수)호출\n",
    "\n",
    "print('전위순회 :', end=' ')\n",
    "preorder(node1)\n",
    "print('끝')"
   ]
  },
  {
   "cell_type": "code",
   "execution_count": 37,
   "metadata": {},
   "outputs": [
    {
     "name": "stdout",
     "output_type": "stream",
     "text": [
      "중위순회 : 휘인 -> 솔라 -> 쯔위 -> 화사 -> 선미 -> 문별 -> 끝\n"
     ]
    }
   ],
   "source": [
    "# 중위순회\n",
    "def inorder(node): # 루트노드를 파라미터로\n",
    "    if node == None: return # 루트가 None이면 다시 돌아갈거야\n",
    "\n",
    "    inorder(node.left) # 노드의 왼쪽 데이터를 출력\n",
    "    print(node.data, end=' -> ') # 노드 데이터를 출력\n",
    "    inorder(node.right) # 노드의 오른쪽 데이터를 출력\n",
    "    \n",
    "print('중위순회 :', end=' ')\n",
    "inorder(node1)\n",
    "print('끝')"
   ]
  },
  {
   "cell_type": "code",
   "execution_count": 38,
   "metadata": {},
   "outputs": [
    {
     "name": "stdout",
     "output_type": "stream",
     "text": [
      "후위순회 : 휘인 -> 쯔위 -> 솔라 -> 선미 -> 문별 -> 화사 -> 끝\n"
     ]
    }
   ],
   "source": [
    "# 후위순회\n",
    "def postorder(node): # 루트노드를 파라미터로\n",
    "    if node == None: return # 루트가 None이면 다시 돌아가\n",
    "\n",
    "    postorder(node.left) # 노드의 왼쪽 데이터를 출력\n",
    "    postorder(node.right) # 노드의 오른쪽 데이터를 출력\n",
    "    print(node.data, end=' -> ') # 노드 데이터를 출력\n",
    "\n",
    "print('후위순회 :', end=' ')\n",
    "postorder(node1)\n",
    "print('끝')"
   ]
  },
  {
   "cell_type": "code",
   "execution_count": 39,
   "metadata": {},
   "outputs": [
    {
     "name": "stdout",
     "output_type": "stream",
     "text": [
      "전위순회 : 화사 -> 솔라 -> 휘인 -> 쯔위 -> 문별 -> 선미 -> 끝\n",
      "중위순회 : 휘인 -> 솔라 -> 쯔위 -> 화사 -> 선미 -> 문별 -> 끝\n",
      "후위순회 : 휘인 -> 쯔위 -> 솔라 -> 선미 -> 문별 -> 화사 -> 끝\n"
     ]
    }
   ],
   "source": [
    "print('전위순회 :', end=' ')\n",
    "preorder(node1)\n",
    "print('끝')\n",
    "\n",
    "print('중위순회 :', end=' ')\n",
    "inorder(node1)\n",
    "print('끝')\n",
    "\n",
    "print('후위순회 :', end=' ')\n",
    "postorder(node1)\n",
    "print('끝')"
   ]
  },
  {
   "cell_type": "markdown",
   "metadata": {},
   "source": [
    "#### 이진트리 사용예\n",
    "- 탐색, 정렬 - 이진 탐색트리\n",
    "- 우선순위 큐 및 힙(OS 메모리쪽)\n",
    "- 다익스트라 최단거리 경로 알고리즘\n",
    "- 수식 표현식(사람이 보는 수식과 컴퓨터가 계산하는 수식의 차이)\n",
    "- 허프만 트리(압축 알고리즘)\n",
    "- DB 인덱싱(!)\n",
    "- 머신러닝, 의사결정 트리"
   ]
  }
 ],
 "metadata": {
  "kernelspec": {
   "display_name": "Python 3",
   "language": "python",
   "name": "python3"
  },
  "language_info": {
   "codemirror_mode": {
    "name": "ipython",
    "version": 3
   },
   "file_extension": ".py",
   "mimetype": "text/x-python",
   "name": "python",
   "nbconvert_exporter": "python",
   "pygments_lexer": "ipython3",
   "version": "3.11.9"
  }
 },
 "nbformat": 4,
 "nbformat_minor": 2
}
