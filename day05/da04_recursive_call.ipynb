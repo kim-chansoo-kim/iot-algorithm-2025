{
 "cells": [
  {
   "cell_type": "markdown",
   "metadata": {},
   "source": [
    "### 재귀호출 Recursive Call\n",
    "\n",
    "<img src=\"https://dojang.io/pluginfile.php/13846/mod_page/content/3/031001.png\" width=\"700\">\n",
    "\n",
    "- 자기자신을 다시 호출하는 함수 호출 방법\n",
    "    - 장점 : 코드를 아주 짧게 작성(수학적 방법이라 쉽게 이해)\n",
    "    - 단점 : 디버깅이 어렵다, 수학을 못하면 이해가 어렵다..., 속도저하!"
   ]
  },
  {
   "cell_type": "markdown",
   "metadata": {},
   "source": [
    "- 기본 재귀호출 구현"
   ]
  },
  {
   "cell_type": "code",
   "execution_count": null,
   "metadata": {},
   "outputs": [],
   "source": [
    "count = 0\n",
    "\n",
    "def openBox():\n",
    "    global count\n",
    "    print(f'상자를 엽니다! {count}')\n",
    "    count += 1\n",
    "    openBox() # 재귀호출\n",
    "openBox()"
   ]
  },
  {
   "cell_type": "markdown",
   "metadata": {},
   "source": [
    "- 위의 코드 실행시 count가 2969 정도되면 아래 예외 발생\n",
    "    - RecursionError: maximum recursion depth exceeded while calling a Python object\n",
    "    - 파이썬에서는 무한 재귀호출을 방지"
   ]
  },
  {
   "cell_type": "code",
   "execution_count": 17,
   "metadata": {},
   "outputs": [
    {
     "name": "stdout",
     "output_type": "stream",
     "text": [
      "상자를 엽니다! 5\n",
      "상자를 엽니다! 4\n",
      "상자를 엽니다! 3\n",
      "상자를 엽니다! 2\n",
      "상자를 엽니다! 1\n",
      "반지를 넣고 반환!\n",
      "상자를 닫습니다\n",
      "상자를 닫습니다\n",
      "상자를 닫습니다\n",
      "상자를 닫습니다\n"
     ]
    }
   ],
   "source": [
    "count = 5 # count를 5부터 시작\n",
    "\n",
    "def openBox2():\n",
    "    global count\n",
    "\n",
    "    print(f'상자를 엽니다! {count}')\n",
    "    count -= 1\n",
    "    if count == 0:\n",
    "        print('반지를 넣고 반환!')\n",
    "        return\n",
    "    \n",
    "    openBox2() # 재귀호출\n",
    "    print('상자를 닫습니다') # 직접 호출한것을 제외하고 4번만 호출\n",
    "    # return이 숨어있어용\n",
    "openBox2()"
   ]
  },
  {
   "cell_type": "markdown",
   "metadata": {},
   "source": [
    "#### 점화식"
   ]
  },
  {
   "cell_type": "markdown",
   "metadata": {},
   "source": [
    "- 리커시브를 안쓰면"
   ]
  },
  {
   "cell_type": "code",
   "execution_count": 19,
   "metadata": {},
   "outputs": [
    {
     "name": "stdout",
     "output_type": "stream",
     "text": [
      "10+9+8+...+1 =  55\n"
     ]
    }
   ],
   "source": [
    "sum = 0\n",
    "for i in range(10, 0, -1):\n",
    "    sum += i\n",
    "print('10+9+8+...+1 = ', sum)"
   ]
  },
  {
   "cell_type": "markdown",
   "metadata": {},
   "source": [
    "- 재귀호출 활용\n",
    "- [S(n) = n + S(n-1)]"
   ]
  },
  {
   "cell_type": "code",
   "execution_count": 22,
   "metadata": {},
   "outputs": [
    {
     "name": "stdout",
     "output_type": "stream",
     "text": [
      "10+9+8+...+1 =  55\n"
     ]
    }
   ],
   "source": [
    "sum = 0\n",
    "\n",
    "def S(n):\n",
    "    if n == 1: \n",
    "        return 1\n",
    "    return n + S(n-1)\n",
    "print('10+9+8+...+1 = ', S(10))"
   ]
  },
  {
   "cell_type": "markdown",
   "metadata": {},
   "source": [
    "#### 팩토리얼\n",
    "- S(n)과의 차이는 연산자가 +가 아닌 *이다"
   ]
  },
  {
   "cell_type": "markdown",
   "metadata": {},
   "source": [
    "- 반복문으로 팩토리얼 구현(max : 1558)"
   ]
  },
  {
   "cell_type": "code",
   "execution_count": 35,
   "metadata": {},
   "outputs": [
    {
     "name": "stdout",
     "output_type": "stream",
     "text": [
      "10! 3628800\n",
      "10*9*8*...*1 = 3628800\n"
     ]
    }
   ],
   "source": [
    "num = 10\n",
    "Value = 1\n",
    "\n",
    "for n in range(num, 0, -1):\n",
    "    Value *= n\n",
    "print(f'{num}!', Value)\n",
    "print('10*9*8*...*1 =', Value)"
   ]
  },
  {
   "cell_type": "markdown",
   "metadata": {},
   "source": [
    "- 재귀호출 활용\n",
    "-  [F(n) = n x F(n-1)]"
   ]
  },
  {
   "cell_type": "code",
   "execution_count": 30,
   "metadata": {},
   "outputs": [
    {
     "name": "stdout",
     "output_type": "stream",
     "text": [
      "10! 3628800\n",
      "10*9*8*...*1 = 3628800\n"
     ]
    }
   ],
   "source": [
    "def factorial(n):\n",
    "    if n <= 1:\n",
    "        return 1\n",
    "    return n * factorial(n - 1)\n",
    "print(f'{num}!', Value)\n",
    "print('10*9*8*...*1 =', Value)"
   ]
  }
 ],
 "metadata": {
  "kernelspec": {
   "display_name": "Python 3",
   "language": "python",
   "name": "python3"
  },
  "language_info": {
   "codemirror_mode": {
    "name": "ipython",
    "version": 3
   },
   "file_extension": ".py",
   "mimetype": "text/x-python",
   "name": "python",
   "nbconvert_exporter": "python",
   "pygments_lexer": "ipython3",
   "version": "3.11.9"
  }
 },
 "nbformat": 4,
 "nbformat_minor": 2
}
